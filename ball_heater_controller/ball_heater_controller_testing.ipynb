{
 "cells": [
  {
   "cell_type": "code",
   "execution_count": 2,
   "metadata": {},
   "outputs": [],
   "source": [
    "from BallHeaterDriver import BallHeaterDriver\n",
    "import time\n",
    "import pandas as pd\n",
    "import matplotlib.pyplot as plt \n",
    "from list_ports import list_ports"
   ]
  },
  {
   "cell_type": "code",
   "execution_count": 3,
   "metadata": {},
   "outputs": [
    {
     "data": {
      "text/plain": [
       "[{'port': '/dev/cu.Bluetooth-Incoming-Port',\n",
       "  'manufacturer': None,\n",
       "  'serial': None},\n",
       " {'port': '/dev/cu.MEGABOOM3', 'manufacturer': None, 'serial': None},\n",
       " {'port': '/dev/cu.usbserial-210',\n",
       "  'manufacturer': 'Silicon Labs',\n",
       "  'serial': '4006a22f2575ec11bcf72b71c00adeb6'}]"
      ]
     },
     "execution_count": 3,
     "metadata": {},
     "output_type": "execute_result"
    }
   ],
   "source": [
    "list_ports()"
   ]
  },
  {
   "cell_type": "code",
   "execution_count": 5,
   "metadata": {},
   "outputs": [],
   "source": [
    "ball_heater = BallHeaterDriver(port = '/dev/cu.usbserial-210')"
   ]
  },
  {
   "cell_type": "code",
   "execution_count": 29,
   "metadata": {},
   "outputs": [
    {
     "data": {
      "text/plain": [
       "(True,\n",
       " {'target_temp': 14.5,\n",
       "  'ball_heater_pwm': 10.0,\n",
       "  'heater_temp': 22.310577392578125,\n",
       "  'aux_therm_temp': 25.8128662109375,\n",
       "  'control_mode': 3})"
      ]
     },
     "execution_count": 29,
     "metadata": {},
     "output_type": "execute_result"
    }
   ],
   "source": [
    "# ball_heater.send_command('set_control_mode', [3])\n",
    "ball_heater.send_command('set_heater_pwm_manual', [10])\n",
    "ball_heater.send_command('status')"
   ]
  },
  {
   "cell_type": "code",
   "execution_count": 30,
   "metadata": {},
   "outputs": [
    {
     "data": {
      "text/plain": [
       "(True, b'\\x00\\x00 A\\x00\\x00\\x00@\\xcd\\xcc\\xcc=')"
      ]
     },
     "execution_count": 30,
     "metadata": {},
     "output_type": "execute_result"
    }
   ],
   "source": [
    "ball_heater.send_command('return_pid_parameters')"
   ]
  },
  {
   "cell_type": "code",
   "execution_count": 26,
   "metadata": {},
   "outputs": [
    {
     "data": {
      "text/plain": [
       "(True,\n",
       " {'target_temp': 10.0,\n",
       "  'ball_heater_pwm': 50.0,\n",
       "  'heater_temp': 22.259033203125,\n",
       "  'aux_therm_temp': 25.74273681640625,\n",
       "  'control_mode': 1})"
      ]
     },
     "execution_count": 26,
     "metadata": {},
     "output_type": "execute_result"
    }
   ],
   "source": [
    "ball_heater.send_command('set_target_temp', [10])\n",
    "ball_heater.send_command('status')"
   ]
  },
  {
   "cell_type": "code",
   "execution_count": null,
   "metadata": {},
   "outputs": [],
   "source": []
  }
 ],
 "metadata": {
  "kernelspec": {
   "display_name": "py38",
   "language": "python",
   "name": "python3"
  },
  "language_info": {
   "codemirror_mode": {
    "name": "ipython",
    "version": 3
   },
   "file_extension": ".py",
   "mimetype": "text/x-python",
   "name": "python",
   "nbconvert_exporter": "python",
   "pygments_lexer": "ipython3",
   "version": "3.8.12"
  }
 },
 "nbformat": 4,
 "nbformat_minor": 2
}
