{
 "cells": [
  {
   "cell_type": "code",
   "execution_count": null,
   "metadata": {},
   "outputs": [],
   "source": [
    "%matplotlib inline\n",
    "import ball_heater_driver \n",
    "import time\n",
    "import pandas as pd\n",
    "import re\n",
    "import seaborn as sns\n",
    "import matplotlib.pyplot as plt\n",
    "from list_ports import list_ports\n",
    "import itertools\n",
    "import random\n",
    "from tqdm.notebook import tqdm\n",
    "from importlib import reload\n",
    "\n",
    "\n",
    "from IPython import display\n",
    "\n",
    "\n",
    "import numpy as np\n",
    "\n",
    "from pathlib import Path\n",
    "\n",
    "data_dir = Path(\"test_data\")\n",
    "data_dir.mkdir(exist_ok=True)\n",
    "\n",
    "def plot_log_file(log_file_path, x_unit=\"s\", fig= None, axar = None):\n",
    "    \"\"\"Loads and plots a log file from the ball heater controller.\n",
    "\n",
    "    Args:\n",
    "        log_file_path (Pathlike): Path to the log file.\n",
    "        x_unit (str, optional): Unit for the x axis. \"s\" or \"min\". Defaults to \"s\".\n",
    "        fig (Figure, optional): Figure to plot on. Defaults to None, in which case a new figure is created.\n",
    "        axar (list, optional): list of axes to plot on. Defaults to None.\n",
    "\n",
    "    Returns:\n",
    "        _type_: _description_\n",
    "    \"\"\"\n",
    "    if fig is None:\n",
    "        fig, axar = plt.subplots(2, 1, figsize=(10, 10), sharex=True)\n",
    "    # else:\n",
    "    #     for ax in axar:\n",
    "    #         for artist in ax.lines +ax.collections:\n",
    "    #             artist.remove()\n",
    "    # else:\n",
    "    #     plt.clf()\n",
    "\n",
    "    df = pd.read_csv(log_file_path)\n",
    "    df[\"time\"] = df[\"time\"] - df[\"time\"][0]\n",
    "    if x_unit == 'min':\n",
    "        df[\"time\"] = df[\"time\"] / 60\n",
    "    \n",
    "    sns.lineplot(data=df, x=\"time\", y=\"target_temp\", label=\"target\", ax=axar[0])\n",
    "    sns.lineplot(data=df, x=\"time\", y=\"heater_temp\", label=\"heater\", ax=axar[0])\n",
    "    if 'aux_therm_temp' in df.columns and df.aux_therm_temp.mean() > 0:\n",
    "        sns.lineplot(data=df, x=\"time\", y=\"aux_therm_temp\", label=\"aux\", ax=axar[0])\n",
    "    sns.lineplot(data=df, x=\"time\", y=\"ball_heater_pwm\", label=\"heater PWM\", ax=axar[1])\n",
    "    axar[0].set(ylabel=\"Temperature (°C)\")\n",
    "    axar[1].set(ylabel=\"Heater PWM (%)\", xlabel=f\"Time ({x_unit})\")\n",
    "    search_r = re.search(r\"kp_([\\d\\.]+)_ki_([\\d\\.]+)_kd_([\\d\\.]+)\", log_file_path.name)\n",
    "    kp, ki, kd = search_r.groups() if search_r is not None else (0, 0, 0)\n",
    "    fig.suptitle(f\"kp:{kp}, ki:{ki}, kd:{kd}\")\n",
    "    return fig, axar\n",
    "\n"
   ]
  },
  {
   "cell_type": "markdown",
   "metadata": {},
   "source": [
    "## Basic Control"
   ]
  },
  {
   "cell_type": "code",
   "execution_count": null,
   "metadata": {},
   "outputs": [],
   "source": [
    "#  Create a new instance of the BallHeaterDriver class using the first port with a Silicon Labs chip.\n",
    "\n",
    "reload(ball_heater_driver)\n",
    "\n",
    "ports = [\n",
    "    port\n",
    "    for port in list_ports()\n",
    "    if port[\"manufacturer\"] is not None and \"Silicon Labs\" in port[\"manufacturer\"]\n",
    "]\n",
    "port = ports[0][\"port\"]\n",
    "print(f\"Using Port: {port}\")\n",
    "ball_heater = ball_heater_driver.BallHeaterDriver(port=port)"
   ]
  },
  {
   "cell_type": "code",
   "execution_count": null,
   "metadata": {},
   "outputs": [],
   "source": [
    "# Get and print the current status of the ball heater controller.\n",
    "success, status = ball_heater.send_command(\"status\", [])\n",
    "print(\"current status is:\")\n",
    "print(\"\\n\".join((f\"{key} : {value}\") for key, value in status.items()))"
   ]
  },
  {
   "cell_type": "code",
   "execution_count": null,
   "metadata": {},
   "outputs": [],
   "source": [
    "# Start a thread to log the status of the ball heater controller to a csv file at 1s intervals.\n",
    "filename = f'test_{time.strftime(\"%Y-%m-%d_%H-%M-%S\")}.csv'\n",
    "ball_heater.begin_logging(1, data_dir / filename)"
   ]
  },
  {
   "cell_type": "code",
   "execution_count": null,
   "metadata": {},
   "outputs": [],
   "source": [
    "# Set the target temperature to 35 (will also set control mode to remote)\n",
    "ball_heater.send_command(\"set_target_temp\", [35])"
   ]
  },
  {
   "cell_type": "code",
   "execution_count": null,
   "metadata": {},
   "outputs": [],
   "source": [
    "# plot the log file\n",
    "fig, axes = plot_log_file(\n",
    "    data_dir / filename,\n",
    ")"
   ]
  },
  {
   "cell_type": "code",
   "execution_count": null,
   "metadata": {},
   "outputs": [],
   "source": [
    "# Set the control mode back to standby\n",
    "ball_heater.send_command(\"set_control_mode\", [\"standby\"])"
   ]
  },
  {
   "cell_type": "code",
   "execution_count": null,
   "metadata": {},
   "outputs": [],
   "source": [
    "# Stop logging\n",
    "ball_heater.stop_logging()"
   ]
  },
  {
   "cell_type": "code",
   "execution_count": null,
   "metadata": {},
   "outputs": [],
   "source": []
  },
  {
   "cell_type": "code",
   "execution_count": null,
   "metadata": {},
   "outputs": [],
   "source": []
  },
  {
   "cell_type": "markdown",
   "metadata": {},
   "source": [
    "## Run a step response test with given PID parameter Values"
   ]
  },
  {
   "cell_type": "code",
   "execution_count": 35,
   "metadata": {},
   "outputs": [],
   "source": [
    "def update_plot(filename, fig=None, axar=None):\n",
    "    fig, axar = plot_log_file(filename, fig=fig, axar=axar)\n",
    "    display.display(fig)\n",
    "    display.clear_output(wait=True)\n",
    "\n",
    "\n",
    "def do_test_run(\n",
    "    kp,\n",
    "    ki,\n",
    "    kd,\n",
    "    data_dir,\n",
    "    filename=None,\n",
    "    target_temps=[45],\n",
    "    on_wait=60,\n",
    "    off_wait=5 * 60,\n",
    "):\n",
    "    if not data_dir.exists():\n",
    "        data_dir.mkdir(exist_ok=True)\n",
    "    if filename is None:\n",
    "        filename = (\n",
    "            data_dir\n",
    "            / f'pid_test_kp_{kp}_ki_{ki}_kd_{kd}_{time.strftime(\"%Y-%m-%d_%H-%M-%S\")}.csv'\n",
    "        )\n",
    "    else:\n",
    "        filename = data_dir / filename\n",
    "    # fig, axar = plt.subplots(2, 1, figsize=(10, 10))\n",
    "    fig, axar = None, None\n",
    "\n",
    "    ball_heater.send_command(\"set_pid_parameters\", [kp, ki, kd])\n",
    "    time.sleep(0.5)\n",
    "    ball_heater.begin_logging(0.5, filename)\n",
    "    time.sleep(2)\n",
    "    start_time = time.time()\n",
    "    try:\n",
    "        for temp_i, target_temp in enumerate(target_temps, start=1):\n",
    "            ball_heater.send_command(\"set_target_temp\", [target_temp])\n",
    "\n",
    "            while (time.time() - start_time) < (temp_i * on_wait):    \n",
    "                update_plot(filename, fig=fig, axar=axar)\n",
    "                time.sleep(1)\n",
    "\n",
    "        ball_heater.send_command(\"set_target_temp\", [20])\n",
    "        off_time, standby = 0, False        \n",
    "        while off_time < off_wait:\n",
    "            off_time = time.time() - start_time - (temp_i * on_wait)\n",
    "            update_plot(filename)\n",
    "            time.sleep(1)\n",
    "            if off_time > 30 and not standby:\n",
    "                standby = True\n",
    "                ball_heater.send_command(\"set_control_mode\", [0])\n",
    "\n",
    "    except Exception as e:\n",
    "        ball_heater.send_command(\"set_target_temp\", [20])\n",
    "        raise e\n",
    "\n",
    "    finally:\n",
    "        ball_heater.stop_logging()\n",
    "        ball_heater.send_command(\"set_target_temp\", [20])\n",
    "        ball_heater.send_command(\"set_control_mode\", [0])\n",
    "        display.clear_output()\n",
    "        update_plot(filename, fig=fig, axar=axar)\n",
    "        return filename"
   ]
  },
  {
   "cell_type": "code",
   "execution_count": null,
   "metadata": {},
   "outputs": [],
   "source": [
    "kp, ki, kd = 15, 1.0, 0.1\n",
    "filename = do_test_run(kp, ki, kd, data_dir, target_temps=[45], on_wait=60, off_wait=5 * 60)\n"
   ]
  },
  {
   "cell_type": "code",
   "execution_count": null,
   "metadata": {},
   "outputs": [],
   "source": []
  },
  {
   "cell_type": "code",
   "execution_count": null,
   "metadata": {},
   "outputs": [],
   "source": []
  },
  {
   "cell_type": "markdown",
   "metadata": {},
   "source": [
    "## Parametrically test many PID parameters"
   ]
  },
  {
   "cell_type": "code",
   "execution_count": null,
   "metadata": {},
   "outputs": [],
   "source": [
    "data_dir = Path(f'test_data/parametric_test_{time.strftime(\"%Y-%m-%d_%H-%M\")}')\n",
    "data_dir.mkdir(exist_ok=True)\n",
    "\n",
    "kps = [10, 12.5, 15]\n",
    "kis = [0.5, 1, 1.5]\n",
    "kds = [\n",
    "    0.1,\n",
    "]\n",
    "params = list(itertools.product(kps, kis, kds))\n",
    "\n",
    "print(f\"will take approx {len(params) * 6 / 60} hours\")\n",
    "random.shuffle(params)\n",
    "params"
   ]
  },
  {
   "cell_type": "code",
   "execution_count": null,
   "metadata": {},
   "outputs": [],
   "source": [
    "# wait for temp to drop to 35, if needed.\n",
    "\n",
    "temp = 50\n",
    "while temp > 35:\n",
    "    temp = ball_heater.send_command(\"status\")[1][\"heater_temp\"]\n",
    "    display.clear_output(wait=True)\n",
    "    print(f\"waiting for temp to drop to 35, currently {temp}\")\n",
    "    time.sleep(1)"
   ]
  },
  {
   "cell_type": "code",
   "execution_count": null,
   "metadata": {},
   "outputs": [],
   "source": [
    "for i, param_set in enumerate(params):\n",
    "    print(f\"run {i} of {len(params)}\")\n",
    "    try:\n",
    "        kp, ki, kd = param_set\n",
    "        tqdm.write(f\"kp: {kp}, ki: {ki}, kd: {kd}\")\n",
    "        filename = do_test_run(\n",
    "            kp,\n",
    "            ki,\n",
    "            kd,            \n",
    "            data_dir=data_dir,\n",
    "        )\n",
    "    except Exception as e:\n",
    "        if isinstance(e, KeyboardInterrupt):\n",
    "            break\n",
    "        else:\n",
    "            raise e"
   ]
  },
  {
   "cell_type": "code",
   "execution_count": null,
   "metadata": {},
   "outputs": [],
   "source": [
    "# Plot all the log files in the data_dir\n",
    "\n",
    "plot_dir = data_dir / \"plots\"\n",
    "plot_dir.mkdir(exist_ok=True)\n",
    "\n",
    "for filename in tqdm(data_dir.glob(\"*.csv\")):\n",
    "    fig, axs = plot_log_file(filename)\n",
    "    # axs[0].set(xlim=(0, 75))\n",
    "    fig.savefig(plot_dir / filename.with_suffix(\".pdf\").name)\n",
    "    # break"
   ]
  },
  {
   "cell_type": "code",
   "execution_count": null,
   "metadata": {},
   "outputs": [],
   "source": [
    "# Combine all the log files into one dataframe and plot\n",
    "\n",
    "df_list = []\n",
    "\n",
    "for i, filename in enumerate(data_dir.glob(\"*.csv\")):\n",
    "    df = pd.read_csv(filename)\n",
    "    df[\"kp\"] = float(filename.name.split(\"_\")[3])\n",
    "    df[\"ki\"] = float(filename.name.split(\"_\")[5])\n",
    "    df[\"kd\"] = float(filename.name.split(\"_\")[7])\n",
    "    df[\"run\"] = i\n",
    "    df[\"time\"] = df[\"time\"] - df[\"time\"][0]\n",
    "    df_list.append(df)\n",
    "df = pd.concat(df_list).reset_index(drop=True)\n",
    "\n",
    "df = df.melt(\n",
    "    id_vars=[\"time\", \"kp\", \"ki\", \"kd\", \"run\"],\n",
    "    value_vars=[\"target_temp\", \"heater_temp\", \"ball_heater_pwm\"],\n",
    "    var_name=\"variable\",\n",
    "    value_name=\"value\",\n",
    ").query('variable == \"heater_temp\" or variable == \"target_temp\"')\n",
    "\n",
    "g = sns.relplot(\n",
    "    data=df,\n",
    "    x=\"time\",\n",
    "    y=\"value\",\n",
    "    hue=\"variable\",\n",
    "    style=\"run\",\n",
    "    dashes=False,\n",
    "    col=\"ki\",\n",
    "    row=\"kp\",\n",
    "    kind=\"line\",\n",
    "    facet_kws={\"sharey\": True, \"sharex\": True},\n",
    ")\n",
    "g.set(\n",
    "    # xlim=(1000, 1200),\n",
    "    xlim=(0, 75),\n",
    "    xlabel=\"Time (s)\",\n",
    "    ylabel=\"Temperature (°C)\",\n",
    ")\n",
    "g.savefig(plot_dir / \"combined_runs.pdf\")\n",
    "\n",
    "g.set(ylim=(30, 45))\n",
    "\n",
    "g.savefig(plot_dir / \"combined_runs_zoomed.pdf\")"
   ]
  },
  {
   "cell_type": "code",
   "execution_count": null,
   "metadata": {},
   "outputs": [],
   "source": []
  }
 ],
 "metadata": {
  "kernelspec": {
   "display_name": "py38",
   "language": "python",
   "name": "python3"
  },
  "language_info": {
   "codemirror_mode": {
    "name": "ipython",
    "version": 3
   },
   "file_extension": ".py",
   "mimetype": "text/x-python",
   "name": "python",
   "nbconvert_exporter": "python",
   "pygments_lexer": "ipython3",
   "version": "3.8.12"
  }
 },
 "nbformat": 4,
 "nbformat_minor": 2
}
